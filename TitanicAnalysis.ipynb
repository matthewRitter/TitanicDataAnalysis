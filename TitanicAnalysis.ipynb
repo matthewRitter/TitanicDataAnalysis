{
 "cells": [
  {
   "cell_type": "code",
   "execution_count": 34,
   "id": "acceptable-minnesota",
   "metadata": {},
   "outputs": [],
   "source": [
    "#Author - Matthew Ritter\n",
    "import pandas as pd"
   ]
  },
  {
   "cell_type": "code",
   "execution_count": 35,
   "id": "historical-purple",
   "metadata": {},
   "outputs": [],
   "source": [
    "from matplotlib import pyplot as plt"
   ]
  },
  {
   "cell_type": "code",
   "execution_count": 36,
   "id": "beneficial-officer",
   "metadata": {},
   "outputs": [],
   "source": [
    "def ConvertToInt(value):\n",
    "    if (value == \"female\"):\n",
    "        value = 0\n",
    "    else:\n",
    "        value = 1\n",
    "    return value"
   ]
  },
  {
   "cell_type": "code",
   "execution_count": 37,
   "id": "charged-divide",
   "metadata": {},
   "outputs": [
    {
     "name": "stdout",
     "output_type": "stream",
     "text": [
      "   PassengerId  Survived  Pclass  \\\n",
      "0            1         0       3   \n",
      "1            2         1       1   \n",
      "2            3         1       3   \n",
      "3            4         1       1   \n",
      "4            5         0       3   \n",
      "\n",
      "                                                Name     Sex   Age  SibSp  \\\n",
      "0                            Braund, Mr. Owen Harris    male  22.0      1   \n",
      "1  Cumings, Mrs. John Bradley (Florence Briggs Th...  female  38.0      1   \n",
      "2                             Heikkinen, Miss. Laina  female  26.0      0   \n",
      "3       Futrelle, Mrs. Jacques Heath (Lily May Peel)  female  35.0      1   \n",
      "4                           Allen, Mr. William Henry    male  35.0      0   \n",
      "\n",
      "   Parch            Ticket     Fare Cabin Embarked  \n",
      "0      0         A/5 21171   7.2500   NaN        S  \n",
      "1      0          PC 17599  71.2833   C85        C  \n",
      "2      0  STON/O2. 3101282   7.9250   NaN        S  \n",
      "3      0            113803  53.1000  C123        S  \n",
      "4      0            373450   8.0500   NaN        S  \n",
      "PassengerId      int64\n",
      "Survived         int64\n",
      "Pclass           int64\n",
      "Name            object\n",
      "Sex             object\n",
      "Age            float64\n",
      "SibSp            int64\n",
      "Parch            int64\n",
      "Ticket          object\n",
      "Fare           float64\n",
      "Cabin           object\n",
      "Embarked        object\n",
      "dtype: object\n"
     ]
    }
   ],
   "source": [
    "df = pd.read_csv('titanic.csv')\n",
    "print(df.head())\n",
    "print(df.dtypes)"
   ]
  },
  {
   "cell_type": "code",
   "execution_count": 38,
   "id": "altered-parade",
   "metadata": {},
   "outputs": [
    {
     "name": "stdout",
     "output_type": "stream",
     "text": [
      "   Survived  Pclass     Sex   Age  SibSp  Parch     Fare\n",
      "0         0       3    male  22.0      1      0   7.2500\n",
      "1         1       1  female  38.0      1      0  71.2833\n",
      "2         1       3  female  26.0      0      0   7.9250\n",
      "3         1       1  female  35.0      1      0  53.1000\n",
      "4         0       3    male  35.0      0      0   8.0500\n"
     ]
    }
   ],
   "source": [
    "df = df.drop(\"PassengerId\", axis = 1)\n",
    "df = df.drop(\"Name\", axis = 1)\n",
    "df = df.drop(\"Ticket\", axis = 1)\n",
    "df = df.drop(\"Cabin\", axis = 1)\n",
    "df = df.drop(\"Embarked\", axis = 1)\n",
    "print(df.head())"
   ]
  },
  {
   "cell_type": "code",
   "execution_count": 39,
   "id": "molecular-adobe",
   "metadata": {},
   "outputs": [
    {
     "name": "stdout",
     "output_type": "stream",
     "text": [
      "   Pclass     Sex   Age  SibSp  Parch     Fare\n",
      "0       3    male  22.0      1      0   7.2500\n",
      "1       1  female  38.0      1      0  71.2833\n",
      "2       3  female  26.0      0      0   7.9250\n",
      "3       1  female  35.0      1      0  53.1000\n",
      "4       3    male  35.0      0      0   8.0500\n",
      "   Pclass     Sex   Age  SibSp  Parch     Fare  Survived\n",
      "0       3    male  22.0      1      0   7.2500         0\n",
      "1       1  female  38.0      1      0  71.2833         1\n",
      "2       3  female  26.0      0      0   7.9250         1\n",
      "3       1  female  35.0      1      0  53.1000         1\n",
      "4       3    male  35.0      0      0   8.0500         0\n",
      "   Pclass  Sex   Age  SibSp  Parch     Fare  Survived\n",
      "0       3    1  22.0      1      0   7.2500         0\n",
      "1       1    0  38.0      1      0  71.2833         1\n",
      "2       3    0  26.0      0      0   7.9250         1\n",
      "3       1    0  35.0      1      0  53.1000         1\n",
      "4       3    1  35.0      0      0   8.0500         0\n"
     ]
    }
   ],
   "source": [
    "survivedCol = df[\"Survived\"]\n",
    "df = df.drop(\"Survived\", axis = 1)\n",
    "print(df.head())\n",
    "df[\"Survived\"] = survivedCol\n",
    "print(df.head())\n",
    "df[\"Sex\"] = df[\"Sex\"].apply(ConvertToInt)\n",
    "print(df.head())\n",
    "\n",
    "\n",
    "\n",
    "\n",
    "\n"
   ]
  },
  {
   "cell_type": "code",
   "execution_count": 40,
   "id": "anticipated-undergraduate",
   "metadata": {},
   "outputs": [
    {
     "data": {
      "image/png": "[encoded data removed]",
      "text/plain": [
       "<Figure size 432x288 with 1 Axes>"
      ]
     },
     "metadata": {
      "needs_background": "light"
     },
     "output_type": "display_data"
    }
   ],
   "source": [
    "counts = df['Survived'].value_counts()\n",
    "outcomes = (df['Survived'])\n",
    "#width between bars\n",
    "w = 0.35  \n",
    "plt.bar(x=[0,.4], height=counts, width = w)\n",
    "plt.xticks([0,.4], (\"Survived\", 'Perished'))\n",
    "\n",
    "plt.ylabel('Outcomes')\n",
    "plt.title('Titanic Survival Numbers')\n",
    "\n",
    "plt.show()"
   ]
  },
  {
   "cell_type": "code",
   "execution_count": null,
   "id": "composed-archives",
   "metadata": {},
   "outputs": [],
   "source": []
  },
  {
   "cell_type": "code",
   "execution_count": 41,
   "id": "moral-weekend",
   "metadata": {},
   "outputs": [
    {
     "name": "stdout",
     "output_type": "stream",
     "text": [
      "The means of all columns are: \n",
      "Pclass     2.308642\n",
      "Sex        0.647587\n",
      "Age       29.699118\n",
      "SibSp      0.523008\n",
      "Parch      0.381594\n",
      "Fare      32.204208\n",
      "dtype: float64\n",
      "The means of people that survived are: Pclass     1.950292\n",
      "Sex        0.318713\n",
      "Age       28.343690\n",
      "SibSp      0.473684\n",
      "Parch      0.464912\n",
      "Fare      48.395408\n",
      "dtype: float64\n",
      "<class 'pandas.core.series.Series'>\n",
      "The means of people that perished are: Pclass     2.531876\n",
      "Sex        0.852459\n",
      "Age       30.626179\n",
      "SibSp      0.553734\n",
      "Parch      0.329690\n",
      "Fare      22.117887\n",
      "dtype: float64\n"
     ]
    },
    {
     "data": {
      "image/png": "[encoded data removed]",
      "text/plain": [
       "<Figure size 432x288 with 1 Axes>"
      ]
     },
     "metadata": {
      "needs_background": "light"
     },
     "output_type": "display_data"
    }
   ],
   "source": [
    "\n",
    "meansOfAll = df.mean()\n",
    "del meansOfAll[\"Survived\"]\n",
    "print(\"The means of all columns are: \")\n",
    "print(meansOfAll)\n",
    "\n",
    "\n",
    "survivedBools = (df[\"Survived\"] == 1)\n",
    "perishedBools = (df[\"Survived\"] == 0)\n",
    "\n",
    "\n",
    "\n",
    "meansOfSurvived = df[survivedBools].mean()\n",
    "del meansOfSurvived[\"Survived\"]\n",
    "print(\"The means of people that survived are: \" + str(meansOfSurvived))\n",
    "\n",
    "\n",
    "meansOfPerished = df[perishedBools].mean()\n",
    "print(type(meansOfPerished))\n",
    "del meansOfPerished[\"Survived\"]\n",
    "print(\"The means of people that perished are: \" + str(meansOfPerished))\n",
    "\n",
    "features = [\"Pclass\", \"Sex\", \"Age\", \"SibSp\", \"Parch\", \"Fare\"]\n",
    "\n",
    "\n",
    "\n",
    "plt.plot(features, meansOfAll)\n",
    "plt.plot(features, meansOfPerished)\n",
    "plt.plot(features, meansOfSurvived)\n",
    "plt.legend([\"All\", \"Perished\", \"Survived\"])\n",
    "plt.title('Means For Titanic Passengers')\n",
    "plt.xlabel('Features')\n",
    "plt.ylabel('Mean')\n",
    "plt.show()\n"
   ]
  },
  {
   "cell_type": "code",
   "execution_count": 42,
   "id": "secret-freedom",
   "metadata": {},
   "outputs": [
    {
     "ename": "AttributeError",
     "evalue": "'DataFrame' object has no attribute 'ax'",
     "output_type": "error",
     "traceback": [
      "\u001b[1;31m---------------------------------------------------------------------------\u001b[0m",
      "\u001b[1;31mAttributeError\u001b[0m                            Traceback (most recent call last)",
      "\u001b[1;32m<ipython-input-42-13f516760663>\u001b[0m in \u001b[0;36m<module>\u001b[1;34m\u001b[0m\n\u001b[0;32m      8\u001b[0m     \u001b[0mcolors\u001b[0m \u001b[1;33m=\u001b[0m \u001b[1;33m[\u001b[0m\u001b[1;34m'b'\u001b[0m\u001b[1;33m,\u001b[0m \u001b[1;34m'r'\u001b[0m\u001b[1;33m,\u001b[0m \u001b[1;34m'g'\u001b[0m\u001b[1;33m]\u001b[0m\u001b[1;33m\u001b[0m\u001b[1;33m\u001b[0m\u001b[0m\n\u001b[0;32m      9\u001b[0m \u001b[1;33m\u001b[0m\u001b[0m\n\u001b[1;32m---> 10\u001b[1;33m     \u001b[0mbarPlot\u001b[0m \u001b[1;33m=\u001b[0m \u001b[0mdfData\u001b[0m\u001b[1;33m.\u001b[0m\u001b[0max\u001b[0m\u001b[1;33m[\u001b[0m\u001b[0mcounter\u001b[0m \u001b[1;33m%\u001b[0m \u001b[1;36m3\u001b[0m\u001b[1;33m,\u001b[0m \u001b[0mcounter\u001b[0m \u001b[1;33m%\u001b[0m \u001b[1;36m3\u001b[0m\u001b[1;33m]\u001b[0m\u001b[1;33m.\u001b[0m\u001b[0mplot\u001b[0m\u001b[1;33m.\u001b[0m\u001b[0mbar\u001b[0m\u001b[1;33m(\u001b[0m\u001b[0mwidth\u001b[0m \u001b[1;33m=\u001b[0m \u001b[1;36m1\u001b[0m\u001b[1;33m,\u001b[0m \u001b[0mcolor\u001b[0m \u001b[1;33m=\u001b[0m \u001b[0mcolors\u001b[0m\u001b[1;33m)\u001b[0m\u001b[1;33m\u001b[0m\u001b[1;33m\u001b[0m\u001b[0m\n\u001b[0m\u001b[0;32m     11\u001b[0m     \u001b[0mplt\u001b[0m\u001b[1;33m.\u001b[0m\u001b[0mtitle\u001b[0m\u001b[1;33m(\u001b[0m\u001b[0mfeature\u001b[0m\u001b[1;33m)\u001b[0m\u001b[1;33m\u001b[0m\u001b[1;33m\u001b[0m\u001b[0m\n\u001b[0;32m     12\u001b[0m     \u001b[0mplt\u001b[0m\u001b[1;33m.\u001b[0m\u001b[0mshow\u001b[0m\u001b[1;33m(\u001b[0m\u001b[1;33m)\u001b[0m\u001b[1;33m\u001b[0m\u001b[1;33m\u001b[0m\u001b[0m\n",
      "\u001b[1;32mc:\\users\\mattr\\appdata\\local\\programs\\python\\python38\\lib\\site-packages\\pandas\\core\\generic.py\u001b[0m in \u001b[0;36m__getattr__\u001b[1;34m(self, name)\u001b[0m\n\u001b[0;32m   5139\u001b[0m             \u001b[1;32mif\u001b[0m \u001b[0mself\u001b[0m\u001b[1;33m.\u001b[0m\u001b[0m_info_axis\u001b[0m\u001b[1;33m.\u001b[0m\u001b[0m_can_hold_identifiers_and_holds_name\u001b[0m\u001b[1;33m(\u001b[0m\u001b[0mname\u001b[0m\u001b[1;33m)\u001b[0m\u001b[1;33m:\u001b[0m\u001b[1;33m\u001b[0m\u001b[1;33m\u001b[0m\u001b[0m\n\u001b[0;32m   5140\u001b[0m                 \u001b[1;32mreturn\u001b[0m \u001b[0mself\u001b[0m\u001b[1;33m[\u001b[0m\u001b[0mname\u001b[0m\u001b[1;33m]\u001b[0m\u001b[1;33m\u001b[0m\u001b[1;33m\u001b[0m\u001b[0m\n\u001b[1;32m-> 5141\u001b[1;33m             \u001b[1;32mreturn\u001b[0m \u001b[0mobject\u001b[0m\u001b[1;33m.\u001b[0m\u001b[0m__getattribute__\u001b[0m\u001b[1;33m(\u001b[0m\u001b[0mself\u001b[0m\u001b[1;33m,\u001b[0m \u001b[0mname\u001b[0m\u001b[1;33m)\u001b[0m\u001b[1;33m\u001b[0m\u001b[1;33m\u001b[0m\u001b[0m\n\u001b[0m\u001b[0;32m   5142\u001b[0m \u001b[1;33m\u001b[0m\u001b[0m\n\u001b[0;32m   5143\u001b[0m     \u001b[1;32mdef\u001b[0m \u001b[0m__setattr__\u001b[0m\u001b[1;33m(\u001b[0m\u001b[0mself\u001b[0m\u001b[1;33m,\u001b[0m \u001b[0mname\u001b[0m\u001b[1;33m:\u001b[0m \u001b[0mstr\u001b[0m\u001b[1;33m,\u001b[0m \u001b[0mvalue\u001b[0m\u001b[1;33m)\u001b[0m \u001b[1;33m->\u001b[0m \u001b[1;32mNone\u001b[0m\u001b[1;33m:\u001b[0m\u001b[1;33m\u001b[0m\u001b[1;33m\u001b[0m\u001b[0m\n",
      "\u001b[1;31mAttributeError\u001b[0m: 'DataFrame' object has no attribute 'ax'"
     ]
    },
    {
     "data": {
      "image/png": "[encoded data removed]",
      "text/plain": [
       "<Figure size 1080x360 with 9 Axes>"
      ]
     },
     "metadata": {
      "needs_background": "light"
     },
     "output_type": "display_data"
    }
   ],
   "source": [
    "\n",
    "fig, ax = plt.subplots(nrows=3, ncols=3,figsize=(15,5))\n",
    "\n",
    "counter = 0\n",
    "for feature in features:\n",
    "    inputData = [(meansOfAll[feature]), (meansOfPerished[feature]), (meansOfSurvived[feature])]\n",
    "    dfData = pd.DataFrame(data = inputData)\n",
    "\n",
    "    colors = ['b', 'r', 'g']\n",
    "\n",
    "    barPlot = dfData.ax[counter % 3, counter % 3].plot.bar(width = 1, color = colors)\n",
    "    plt.title(feature)\n",
    "    plt.show()\n",
    "    counter += 1\n",
    "\n"
   ]
  },
  {
   "cell_type": "code",
   "execution_count": null,
   "id": "simple-sleep",
   "metadata": {},
   "outputs": [],
   "source": [
    "\n",
    "fig, ax = plt.subplots(nrows=2, ncols=3,figsize=(15,10))\n",
    "\n",
    "counter = 100\n",
    "i = 0\n",
    "plots = 0\n",
    "for feature in features:\n",
    "    row = 0\n",
    "    if (i > 2):\n",
    "        row = 1\n",
    "\n",
    "    plots = ax[row][i % 3].bar(x=[1,2,3], height= [meansOfAll[feature], meansOfPerished[feature], meansOfSurvived[feature]], width=1, color=[\"b\", \"r\", \"g\"])\n",
    "    ax[row][i % 3].set_title(feature)\n",
    "    counter += 1\n",
    "    i += 1\n",
    "plt.show()"
   ]
  },
  {
   "cell_type": "code",
   "execution_count": null,
   "id": "ecological-adventure",
   "metadata": {},
   "outputs": [],
   "source": [
    "correlations = abs(df[df.columns[1:]].corr()['Survived'][:])"
   ]
  },
  {
   "cell_type": "code",
   "execution_count": 43,
   "id": "enabling-physics",
   "metadata": {},
   "outputs": [
    {
     "name": "stdout",
     "output_type": "stream",
     "text": [
      "Sex         0.543351\n",
      "Age         0.077221\n",
      "SibSp       0.035322\n",
      "Parch       0.081629\n",
      "Fare        0.257307\n",
      "Survived    1.000000\n",
      "Name: Survived, dtype: float64\n"
     ]
    }
   ],
   "source": [
    "print(correlations)"
   ]
  },
  {
   "cell_type": "code",
   "execution_count": 44,
   "id": "informal-commodity",
   "metadata": {},
   "outputs": [
    {
     "data": {
      "image/png": "[encoded data removed]",
      "text/plain": [
       "<Figure size 432x288 with 1 Axes>"
      ]
     },
     "metadata": {
      "needs_background": "light"
     },
     "output_type": "display_data"
    }
   ],
   "source": [
    "survivedDF = df[survivedBools]\n",
    "\n",
    "perishedDF = df[perishedBools]\n",
    "\n",
    "\n",
    "\n",
    "plt.scatter(survivedDF[\"Age\"], survivedDF[\"Fare\"], color = \"blue\")\n",
    "plt.scatter(perishedDF[\"Age\"], perishedDF[\"Fare\"], color = \"red\")\n",
    "plt.xlabel(\"Age\")\n",
    "plt.ylabel(\"Fare\")\n",
    "plt.title(\"Scatter plot of survivors and those who perished\")\n",
    "plt.legend([\"Survived\", \"Perished\"])\n",
    "plt.show()\n"
   ]
  }
 ],
 "metadata": {
  "kernelspec": {
   "display_name": "Python 3",
   "language": "python",
   "name": "python3"
  },
  "language_info": {
   "codemirror_mode": {
    "name": "ipython",
    "version": 3
   },
   "file_extension": ".py",
   "mimetype": "text/x-python",
   "name": "python",
   "nbconvert_exporter": "python",
   "pygments_lexer": "ipython3",
   "version": "3.8.6"
  }
 },
 "nbformat": 4,
 "nbformat_minor": 5
}
